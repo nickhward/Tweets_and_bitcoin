{
  "cells": [
    {
      "cell_type": "markdown",
      "metadata": {
        "id": "view-in-github",
        "colab_type": "text"
      },
      "source": [
        "<a href=\"https://colab.research.google.com/github/nickhward/Tweets_and_bitcoin/blob/main/sentimentanalysis.ipynb\" target=\"_parent\"><img src=\"https://colab.research.google.com/assets/colab-badge.svg\" alt=\"Open In Colab\"/></a>"
      ]
    },
    {
      "cell_type": "markdown",
      "metadata": {
        "id": "qGVamIHNZ9p9"
      },
      "source": [
        "# **Project Goal**\n",
        "- Achieve accurate sentiment analysis on the tweets\n",
        "- Create a machine learning model that can predict price changes of Bitcoin from tweets in the current day, week, or month\n",
        "\n",
        "# **GOAL OF THIS NOTEBOOK**\n",
        "\n",
        "- To find derive information from the bitcoin dataset\n",
        "- To clean the dataset to get ready for modeling\n",
        "- Sentiment analysis on each tweet using tensorflow\n",
        "- The features I come up with here will be used in another notebook that will include the bitcoin price data ['open', 'low', 'close', 'high', 'volume']\n",
        "- Since this dataset is so large, and I don't want to pay for google pro + ( I have google pro) I will be using a method of chunking the data so that I reduce the memory usage. \n",
        " - The reason this reduces memory as only one chunk is kept in memory at any time \n",
        "\n"
      ]
    },
    {
      "cell_type": "code",
      "execution_count": null,
      "metadata": {
        "id": "zGKSv4cAXlmw"
      },
      "outputs": [],
      "source": [
        "import pandas as pd\n",
        "import matplotlib.pyplot as plt\n",
        "import csv\n",
        "\n",
        "import nltk\n",
        "from nltk.corpus import stopwords\n"
      ]
    },
    {
      "cell_type": "code",
      "execution_count": null,
      "metadata": {
        "colab": {
          "background_save": true
        },
        "id": "JPrGQVuWYk9o"
      },
      "outputs": [],
      "source": [
        "\n",
        "# the reason I'm using with open instead of pd.read_csv is due to a parser error\n",
        "# that read_csv can't seem to handle\n",
        "# The built in csv reading library is more flexible thatn pandas when \n",
        "# reading malformed CSV files. \n",
        "# need to load in the data like this to save on notebook memory. Cuts the memory\n",
        "# usage in half. \n",
        "from itertools import islice\n",
        "\n",
        "def process_chunk(chunk):\n",
        "    # Convert columns to numeric, coerce errors to NaN\n",
        "    chunk['user_followers'] = pd.to_numeric(chunk['user_followers'], errors='coerce')\n",
        "    chunk['user_friends'] = pd.to_numeric(chunk['user_friends'], errors='coerce')\n",
        "\n",
        "    # Remove rows with NaN in 'user_followers' and 'user_friends'\n",
        "    chunk = chunk.dropna(subset=['user_followers', 'user_friends'])\n",
        "\n",
        "    return chunk[['user_followers', 'user_friends', 'user_verified', 'date', 'text']]\n",
        "\n",
        "chunk_size = 200_000  # Define your chunk size\n",
        "chunks = []\n",
        "\n",
        "with open('/content/drive/MyDrive/Bitcoin_tweets.csv', 'r') as f:\n",
        "    reader = csv.reader(f)\n",
        "    header = next(reader)  # get the header\n",
        "\n",
        "    while True:\n",
        "        data = list(islice(reader, chunk_size))\n",
        "        if not data:\n",
        "            # no more data to read\n",
        "            break\n",
        "\n",
        "        chunk = pd.DataFrame(data, columns=header)\n",
        "        chunks.append(process_chunk(chunk))  # process your data here\n",
        "\n",
        "# Concatenate all chunks into a single DataFrame\n",
        "df = pd.concat(chunks, axis=0)\n",
        "del chunks"
      ]
    },
    {
      "cell_type": "code",
      "execution_count": null,
      "metadata": {
        "colab": {
          "background_save": true
        },
        "id": "w78sQuEEibq-",
        "outputId": "2ba34357-c591-4d28-f721-dd90fcb190af"
      },
      "outputs": [
        {
          "name": "stdout",
          "output_type": "stream",
          "text": [
            "(4689336, 5)\n"
          ]
        }
      ],
      "source": [
        "#remove people that have most likely no influence and are probably bots\n",
        "print(df.shape)\n",
        "df = df[df['user_followers'] > 5_000]"
      ]
    },
    {
      "cell_type": "code",
      "execution_count": null,
      "metadata": {
        "colab": {
          "background_save": true
        },
        "id": "doLiEELMpYoX",
        "outputId": "78afa393-4d89-402d-99dd-8f2b8e34bd45"
      },
      "outputs": [
        {
          "name": "stdout",
          "output_type": "stream",
          "text": [
            "(579296, 5)\n"
          ]
        }
      ],
      "source": [
        "print(df.shape)"
      ]
    },
    {
      "cell_type": "markdown",
      "metadata": {
        "id": "A2XdVuUBYx7f"
      },
      "source": [
        "# **Understanding the Data**"
      ]
    },
    {
      "cell_type": "code",
      "execution_count": null,
      "metadata": {
        "colab": {
          "background_save": true
        },
        "id": "mOpPMrFDYpdO",
        "outputId": "04f8d559-36e1-4fd9-cdab-9943a91bd318"
      },
      "outputs": [
        {
          "name": "stdout",
          "output_type": "stream",
          "text": [
            "Index(['user_followers', 'user_friends', 'user_verified', 'date', 'text'], dtype='object')\n",
            "(579296, 5)\n"
          ]
        },
        {
          "data": {
            "text/html": [
              "\n",
              "  <div id=\"df-69b41038-3afa-4719-a6ee-5ef816f0c3f3\">\n",
              "    <div class=\"colab-df-container\">\n",
              "      <div>\n",
              "<style scoped>\n",
              "    .dataframe tbody tr th:only-of-type {\n",
              "        vertical-align: middle;\n",
              "    }\n",
              "\n",
              "    .dataframe tbody tr th {\n",
              "        vertical-align: top;\n",
              "    }\n",
              "\n",
              "    .dataframe thead th {\n",
              "        text-align: right;\n",
              "    }\n",
              "</style>\n",
              "<table border=\"1\" class=\"dataframe\">\n",
              "  <thead>\n",
              "    <tr style=\"text-align: right;\">\n",
              "      <th></th>\n",
              "      <th>user_followers</th>\n",
              "      <th>user_friends</th>\n",
              "      <th>user_verified</th>\n",
              "      <th>date</th>\n",
              "      <th>text</th>\n",
              "    </tr>\n",
              "  </thead>\n",
              "  <tbody>\n",
              "    <tr>\n",
              "      <th>0</th>\n",
              "      <td>8534.0</td>\n",
              "      <td>7605.0</td>\n",
              "      <td>False</td>\n",
              "      <td>2021-02-10 23:59:04</td>\n",
              "      <td>Blue Ridge Bank shares halted by NYSE after #b...</td>\n",
              "    </tr>\n",
              "    <tr>\n",
              "      <th>1</th>\n",
              "      <td>6769.0</td>\n",
              "      <td>1532.0</td>\n",
              "      <td>False</td>\n",
              "      <td>2021-02-10 23:58:48</td>\n",
              "      <td>😎 Today, that's this #Thursday, we will do a \"...</td>\n",
              "    </tr>\n",
              "    <tr>\n",
              "      <th>9</th>\n",
              "      <td>8534.0</td>\n",
              "      <td>7605.0</td>\n",
              "      <td>False</td>\n",
              "      <td>2021-02-10 23:52:08</td>\n",
              "      <td>.@Tesla’s #bitcoin investment is revolutionary...</td>\n",
              "    </tr>\n",
              "    <tr>\n",
              "      <th>12</th>\n",
              "      <td>5097.0</td>\n",
              "      <td>791.0</td>\n",
              "      <td>False</td>\n",
              "      <td>2021-02-10 23:50:59</td>\n",
              "      <td>Join our first virtual crypto meetup of 2021 -...</td>\n",
              "    </tr>\n",
              "    <tr>\n",
              "      <th>16</th>\n",
              "      <td>72542.0</td>\n",
              "      <td>519.0</td>\n",
              "      <td>False</td>\n",
              "      <td>2021-02-10 23:48:37</td>\n",
              "      <td>@naval #BTC is unconfiscatable \\n\\nAll roads l...</td>\n",
              "    </tr>\n",
              "  </tbody>\n",
              "</table>\n",
              "</div>\n",
              "      <button class=\"colab-df-convert\" onclick=\"convertToInteractive('df-69b41038-3afa-4719-a6ee-5ef816f0c3f3')\"\n",
              "              title=\"Convert this dataframe to an interactive table.\"\n",
              "              style=\"display:none;\">\n",
              "        \n",
              "  <svg xmlns=\"http://www.w3.org/2000/svg\" height=\"24px\"viewBox=\"0 0 24 24\"\n",
              "       width=\"24px\">\n",
              "    <path d=\"M0 0h24v24H0V0z\" fill=\"none\"/>\n",
              "    <path d=\"M18.56 5.44l.94 2.06.94-2.06 2.06-.94-2.06-.94-.94-2.06-.94 2.06-2.06.94zm-11 1L8.5 8.5l.94-2.06 2.06-.94-2.06-.94L8.5 2.5l-.94 2.06-2.06.94zm10 10l.94 2.06.94-2.06 2.06-.94-2.06-.94-.94-2.06-.94 2.06-2.06.94z\"/><path d=\"M17.41 7.96l-1.37-1.37c-.4-.4-.92-.59-1.43-.59-.52 0-1.04.2-1.43.59L10.3 9.45l-7.72 7.72c-.78.78-.78 2.05 0 2.83L4 21.41c.39.39.9.59 1.41.59.51 0 1.02-.2 1.41-.59l7.78-7.78 2.81-2.81c.8-.78.8-2.07 0-2.86zM5.41 20L4 18.59l7.72-7.72 1.47 1.35L5.41 20z\"/>\n",
              "  </svg>\n",
              "      </button>\n",
              "      \n",
              "  <style>\n",
              "    .colab-df-container {\n",
              "      display:flex;\n",
              "      flex-wrap:wrap;\n",
              "      gap: 12px;\n",
              "    }\n",
              "\n",
              "    .colab-df-convert {\n",
              "      background-color: #E8F0FE;\n",
              "      border: none;\n",
              "      border-radius: 50%;\n",
              "      cursor: pointer;\n",
              "      display: none;\n",
              "      fill: #1967D2;\n",
              "      height: 32px;\n",
              "      padding: 0 0 0 0;\n",
              "      width: 32px;\n",
              "    }\n",
              "\n",
              "    .colab-df-convert:hover {\n",
              "      background-color: #E2EBFA;\n",
              "      box-shadow: 0px 1px 2px rgba(60, 64, 67, 0.3), 0px 1px 3px 1px rgba(60, 64, 67, 0.15);\n",
              "      fill: #174EA6;\n",
              "    }\n",
              "\n",
              "    [theme=dark] .colab-df-convert {\n",
              "      background-color: #3B4455;\n",
              "      fill: #D2E3FC;\n",
              "    }\n",
              "\n",
              "    [theme=dark] .colab-df-convert:hover {\n",
              "      background-color: #434B5C;\n",
              "      box-shadow: 0px 1px 3px 1px rgba(0, 0, 0, 0.15);\n",
              "      filter: drop-shadow(0px 1px 2px rgba(0, 0, 0, 0.3));\n",
              "      fill: #FFFFFF;\n",
              "    }\n",
              "  </style>\n",
              "\n",
              "      <script>\n",
              "        const buttonEl =\n",
              "          document.querySelector('#df-69b41038-3afa-4719-a6ee-5ef816f0c3f3 button.colab-df-convert');\n",
              "        buttonEl.style.display =\n",
              "          google.colab.kernel.accessAllowed ? 'block' : 'none';\n",
              "\n",
              "        async function convertToInteractive(key) {\n",
              "          const element = document.querySelector('#df-69b41038-3afa-4719-a6ee-5ef816f0c3f3');\n",
              "          const dataTable =\n",
              "            await google.colab.kernel.invokeFunction('convertToInteractive',\n",
              "                                                     [key], {});\n",
              "          if (!dataTable) return;\n",
              "\n",
              "          const docLinkHtml = 'Like what you see? Visit the ' +\n",
              "            '<a target=\"_blank\" href=https://colab.research.google.com/notebooks/data_table.ipynb>data table notebook</a>'\n",
              "            + ' to learn more about interactive tables.';\n",
              "          element.innerHTML = '';\n",
              "          dataTable['output_type'] = 'display_data';\n",
              "          await google.colab.output.renderOutput(dataTable, element);\n",
              "          const docLink = document.createElement('div');\n",
              "          docLink.innerHTML = docLinkHtml;\n",
              "          element.appendChild(docLink);\n",
              "        }\n",
              "      </script>\n",
              "    </div>\n",
              "  </div>\n",
              "  "
            ],
            "text/plain": [
              "    user_followers  user_friends user_verified                 date  \\\n",
              "0           8534.0        7605.0         False  2021-02-10 23:59:04   \n",
              "1           6769.0        1532.0         False  2021-02-10 23:58:48   \n",
              "9           8534.0        7605.0         False  2021-02-10 23:52:08   \n",
              "12          5097.0         791.0         False  2021-02-10 23:50:59   \n",
              "16         72542.0         519.0         False  2021-02-10 23:48:37   \n",
              "\n",
              "                                                 text  \n",
              "0   Blue Ridge Bank shares halted by NYSE after #b...  \n",
              "1   😎 Today, that's this #Thursday, we will do a \"...  \n",
              "9   .@Tesla’s #bitcoin investment is revolutionary...  \n",
              "12  Join our first virtual crypto meetup of 2021 -...  \n",
              "16  @naval #BTC is unconfiscatable \\n\\nAll roads l...  "
            ]
          },
          "execution_count": 5,
          "metadata": {},
          "output_type": "execute_result"
        }
      ],
      "source": [
        "print(df.columns)\n",
        "print(df.shape)\n",
        "df.head()\n"
      ]
    },
    {
      "cell_type": "markdown",
      "metadata": {
        "id": "4PafsqrXZA_N"
      },
      "source": [
        "**We are given the following features**\n",
        "\n",
        "* user name\n",
        "* user location\n",
        "* user description\n",
        "* user created\n",
        "* user followers\n",
        "* user friends\n",
        "* user favourites\n",
        "* user verified\n",
        "* date\n",
        "* text\n",
        "* hashtags\n",
        "* source\n",
        "* is retweet\n",
        "\n",
        "Right off the bat I can garuntee that user name, location, description, user created, and user favourites, and source will not help me in this problem. I will be dropping from the the dataset\n"
      ]
    },
    {
      "cell_type": "code",
      "execution_count": null,
      "metadata": {
        "colab": {
          "background_save": true
        },
        "id": "mMUIjyQAY6n0"
      },
      "outputs": [],
      "source": []
    },
    {
      "cell_type": "markdown",
      "metadata": {
        "id": "bg6bM17AfZEH"
      },
      "source": [
        "# **Lets see how dirty the text column is**"
      ]
    },
    {
      "cell_type": "code",
      "execution_count": null,
      "metadata": {
        "colab": {
          "background_save": true
        },
        "id": "YC-xJ9OffWrh",
        "outputId": "d4e0a304-0fab-4a60-d093-c2d9e8cb5d3d"
      },
      "outputs": [
        {
          "data": {
            "image/png": "[encoded data removed]",
            "text/plain": [
              "<Figure size 1000x500 with 1 Axes>"
            ]
          },
          "metadata": {},
          "output_type": "display_data"
        }
      ],
      "source": [
        "# seeing what the frequency of non alphabetic characters in the dataset\n",
        "\n",
        "# extract non-alphabetic characters\n",
        "non_alpha = df['text'].str.extractall(r'([^A-Za-z\\s])')[0]\n",
        "\n",
        "# count the occurrence of each non-alphabetic character\n",
        "# limit to the top 20 because the chart will be extremely crowded due to so many\n",
        "# unique characters\n",
        "counts = non_alpha.value_counts().nlargest(20)\n",
        "\n",
        "# create a bar plot\n",
        "plt.figure(figsize=(10, 5))\n",
        "counts.plot(kind='bar')\n",
        "plt.title('Frequency of Non-Alphabetic Characters')\n",
        "plt.xlabel('Non-Alphabetic Characters')\n",
        "plt.ylabel('Frequency')\n",
        "plt.show()"
      ]
    },
    {
      "cell_type": "code",
      "execution_count": null,
      "metadata": {
        "colab": {
          "background_save": true
        },
        "id": "Z0VAGenGs_wt",
        "outputId": "3a16459b-2e63-4361-c50f-eab516ab0cf6"
      },
      "outputs": [
        {
          "name": "stderr",
          "output_type": "stream",
          "text": [
            "[nltk_data] Downloading package stopwords to /root/nltk_data...\n",
            "[nltk_data]   Unzipping corpora/stopwords.zip.\n",
            "[nltk_data] Downloading package punkt to /root/nltk_data...\n",
            "[nltk_data]   Unzipping tokenizers/punkt.zip.\n"
          ]
        },
        {
          "name": "stdout",
          "output_type": "stream",
          "text": [
            "[('the', 290846), ('to', 226067), ('and', 158419), ('is', 147097), ('a', 136675), ('of', 133773), ('in', 115672), ('for', 103818), ('on', 102711), ('you', 68255), ('this', 58193), ('it', 57854), ('with', 53680), ('will', 50142), ('at', 48209), ('that', 44917), ('be', 44609), ('are', 43745), ('by', 43119), ('has', 41594), ('from', 40788), ('your', 34398), ('as', 33176), ('we', 28396), ('now', 27803), ('s', 27443), ('more', 25950), ('have', 25351), ('not', 24404), ('can', 22704), ('or', 21944), ('all', 20977), ('about', 20921), ('up', 20679), ('my', 20614), ('do', 18966), ('out', 18818), ('but', 18609), ('an', 17543), ('very', 15618), ('just', 15516), ('our', 15014), ('its', 14802), ('was', 14740), ('here', 14734), ('if', 14272), ('over', 13299), ('t', 12370), ('so', 12336), ('what', 12332), ('than', 11923), ('they', 11618), ('their', 11124), ('me', 10569), ('how', 9627), ('when', 9377), ('only', 9318), ('some', 9153), ('down', 8791), ('below', 8744), ('into', 8645), ('been', 8595), ('no', 8138), ('there', 7811), ('after', 7689), ('who', 7665), ('most', 7590), ('off', 7372), ('which', 6802), ('before', 6651), ('because', 6451), ('above', 6133), ('then', 6070), ('other', 5976), ('am', 5931), ('too', 5750), ('had', 5717), ('should', 5694), ('again', 5628), ('why', 5240), ('any', 5044), ('does', 4806), ('them', 4631), ('these', 4430), ('own', 4301), ('were', 4222), ('he', 4103), ('where', 3950), ('being', 3930), ('while', 3925), ('i', 3847), ('few', 3754), ('same', 3746), ('through', 3698), ('his', 3631), ('under', 3623), ('don', 3415), ('did', 3399), ('those', 3211), ('m', 3095), ('re', 2954), ('against', 2583), ('until', 2581), ('doing', 2395), ('between', 2286), ('such', 2218), ('during', 1997), ('each', 1987), ('both', 1960), ('ll', 1747), ('once', 1671), ('ve', 1563), ('further', 1513), ('yourself', 1479), ('having', 1398), ('won', 1189), ('itself', 1081), ('him', 1058), ('doesn', 999), ('d', 788), ('her', 736), ('isn', 671), ('didn', 625), ('she', 574), ('themselves', 432), ('haven', 424), ('myself', 408), ('yours', 341), ('aren', 262), ('wouldn', 245), ('nor', 224), ('y', 215), ('hasn', 180), ('himself', 175), ('wasn', 165), ('ain', 135), ('ourselves', 119), ('couldn', 114), ('o', 107), ('shouldn', 106), ('yourselves', 89), ('ours', 54), ('whom', 43), ('weren', 42), ('ma', 39), ('theirs', 36), ('herself', 20), ('hadn', 9), ('hers', 6), (\"doesn't\", 4), (\"don't\", 3), ('needn', 3), (\"it's\", 2), (\"wouldn't\", 1), ('mustn', 1), (\"haven't\", 1)]\n"
          ]
        }
      ],
      "source": [
        "from nltk.corpus import stopwords\n",
        "from nltk.tokenize import word_tokenize\n",
        "from collections import Counter\n",
        "\n",
        "# download the stopwords and punkt (used for tokenization) from NLTK\n",
        "nltk.download('stopwords')\n",
        "nltk.download('punkt')\n",
        "\n",
        "# get the English stopwords\n",
        "stop_words = set(stopwords.words('english'))\n",
        "\n",
        "# tokenize the words in text column\n",
        "words = df['text'].apply(word_tokenize).explode()\n",
        "\n",
        "# filter out the stopwords\n",
        "stop_words_in_text = words[words.isin(stop_words)]\n",
        "\n",
        "# get the frequencies of each stopword\n",
        "stop_word_counts = Counter(stop_words_in_text)\n",
        "\n",
        "# print the most common stopwords\n",
        "print(stop_word_counts.most_common())"
      ]
    },
    {
      "cell_type": "markdown",
      "metadata": {
        "id": "edq4lTtauUR3"
      },
      "source": [
        "Some words I noticed in the stop words that shouldn't be taken out because it could help our model with sentiment analysis. "
      ]
    },
    {
      "cell_type": "code",
      "execution_count": null,
      "metadata": {
        "id": "Cp5QJqiiub0p"
      },
      "outputs": [],
      "source": [
        "stopwords_to_keep = [\n",
        "    'wont',\n",
        "    'isnt',\n",
        "    'havent', \n",
        "    'up',\n",
        "    'no',\n",
        "    'should',\n",
        "    'wouldn',\n",
        "    'shouldn',\n",
        "]\n",
        "\n",
        "# remove the listed words from the stop words list so we don't remove them\n",
        "stop_words = [word for word in stop_words if word not in stopwords_to_keep]\n",
        "\n",
        "# Define a function to remove stopwords\n",
        "def remove_stopwords(text):\n",
        "    word_tokens = word_tokenize(text)\n",
        "    filtered_text = [word for word in word_tokens if word not in stop_words or ('http' not in word)]\n",
        "    return ' '.join(filtered_text)\n",
        "\n",
        "# get rid of all punctuation, The regular expression '[^\\w\\s]' matches any \n",
        "# character that is not a word character (represented by \\w) or a whitespace \n",
        "# character (represented by \\s). Therefore, this line of code replaces all \n",
        "# punctuation characters with an empty string.\n",
        "\n",
        "df['text'] = df['text'].str.replace('[^\\w\\s]', '')\n",
        "\n",
        "\n",
        "# Getting rid of stop words\n",
        "df['text_no_stop'] = df['text'].apply(lambda x : remove_stopwords(x))\n",
        "\n",
        "df.head()"
      ]
    },
    {
      "cell_type": "code",
      "execution_count": null,
      "metadata": {
        "id": "0XE_YdXH4Eb2"
      },
      "outputs": [],
      "source": [
        "# Checking for rare words\n",
        "\n",
        "# tokenize the words in your column\n",
        "words = df['text_no_stop'].apply(word_tokenize).explode()\n",
        "\n",
        "# get the frequencies of each word\n",
        "word_counts = nltk.FreqDist(words)\n",
        "\n",
        "# get words that occur only once or twice\n",
        "rare_words = {word: count for word, count in word_counts.items() if count <= 2}\n",
        "\n",
        "\n"
      ]
    },
    {
      "cell_type": "code",
      "execution_count": null,
      "metadata": {
        "id": "ZySAn5mP9HL9"
      },
      "outputs": [],
      "source": [
        "# Print the first 10 items in the dictionary\n",
        "print(list(rare_words.items())[:100])\n",
        "print(len(rare_words))\n"
      ]
    },
    {
      "cell_type": "code",
      "execution_count": null,
      "metadata": {
        "id": "1hdYuOkk_BRr"
      },
      "outputs": [],
      "source": [
        "import re\n",
        "\n",
        "#function to remove URLs with regular expressions\n",
        "def remove_urls(text):\n",
        "    url_pattern = re.compile(r'https?://\\S+|www\\.\\S+')\n",
        "    no_url = url_pattern.sub(r'', text)\n",
        "    return no_url\n",
        "\n",
        "#funciton to remove emails with regular expression\n",
        "def remove_emails(text):\n",
        "    email_pattern = re.compile(r'\\S+@\\S+')\n",
        "    no_email = email_pattern.sub(r'', text)\n",
        "    return no_email\n",
        "\n",
        "\n",
        "df['cleaned_text'] = df['text_no_stop'].apply(lambda x : remove_urls(x))\n",
        "df['cleaned_text'] = df['cleaned_text'].apply(lambda x : remove_emails(x))\n",
        "\n"
      ]
    },
    {
      "cell_type": "code",
      "execution_count": null,
      "metadata": {
        "id": "CzA-G6KxAa-F"
      },
      "outputs": [],
      "source": [
        "!pip install langdetect"
      ]
    },
    {
      "cell_type": "code",
      "execution_count": null,
      "metadata": {
        "id": "vMgu0ZkH_6hT"
      },
      "outputs": [],
      "source": [
        "# One thing I noticed with this dataset is that some of the language is not in \n",
        "# english so I will want to remove this as well as I don't want to deal with \n",
        "# none english entries for now.\n",
        "\n",
        "# we are lucky again there is already a curated library that will detect english \n",
        "# for us.\n",
        "\n",
        "from langdetect import detect\n",
        "\n",
        "def is_english(text):\n",
        "    try:\n",
        "        return detect(text) == 'en'\n",
        "    except:\n",
        "        return False\n",
        "\n",
        "df['is_english'] = df['cleaned_text'].apply(lambda x : is_english(x))\n"
      ]
    },
    {
      "cell_type": "code",
      "execution_count": null,
      "metadata": {
        "id": "T3h4VQLFPpf1"
      },
      "outputs": [],
      "source": [
        "#take out all non english rows\n",
        "df_final = df[df['is_english'] == True]\n",
        "#Since we don't need the is_english column anymore remove it from dataframe\n",
        "df_final.drop(columns=['is_english'])"
      ]
    },
    {
      "cell_type": "code",
      "execution_count": null,
      "metadata": {
        "id": "wKGtKfrYP-e1"
      },
      "outputs": [],
      "source": []
    },
    {
      "cell_type": "markdown",
      "metadata": {
        "id": "WptCkuKlj-ZX"
      },
      "source": [
        "Unfortunately this dataset does not come with sentiment labels. We will need to up with semtiment ourselves. Luckily there are libraries out there like VADER or TextBlob:\n",
        "- **TextBlob:** calculates sentiment by looking at each word individually, using a predefined list of words that have been manually annotated with their polarity and subjectivity scores. Because of this, TextBlob can sometimes fail to accurately determine the sentiment of sentences that rely on context or have more complex structures.\n",
        "- **VADER:** on the other hand, takes into account not just individual words, but also the context around them. It considers factors like capitalization, punctuation, and word order. This makes it better suited to handling more complex, nuanced sentiment analysis, and it's particularly well-tuned for social media text, where such context is often important."
      ]
    },
    {
      "cell_type": "code",
      "execution_count": null,
      "metadata": {
        "id": "AoHfnufylTbR"
      },
      "outputs": [],
      "source": [
        "# pip install vaderSentiment\n",
        "!pip install vaderSentiment"
      ]
    },
    {
      "cell_type": "code",
      "execution_count": null,
      "metadata": {
        "id": "L9xGICryiLiV"
      },
      "outputs": [],
      "source": [
        "# I will be using VADER for this case because context, capitalization and word \n",
        "# will most likely be important for this project\n",
        "# pos: The probability of the sentiment being positive.\n",
        "# neu: The probability of the sentiment being neutral.\n",
        "# neg: The probability of the sentiment being negative.\n",
        "# compound: The compound score of the sentiment that's \n",
        "from vaderSentiment.vaderSentiment import SentimentIntensityAnalyzer\n",
        "\n",
        "analyzer = SentimentIntensityAnalyzer()\n",
        "\n",
        "def apply_vader(text):\n",
        "    sentiment = analyzer.polarity_scores(text)\n",
        "    return pd.Series([sentiment['pos'], sentiment['neu'], sentiment['neg'], sentiment['compound']])\n",
        "\n",
        "df[['pos', 'neu', 'neg', 'compound']] = df['text_no_stop'].apply(apply_vader)\n",
        "\n"
      ]
    },
    {
      "cell_type": "code",
      "execution_count": null,
      "metadata": {
        "id": "9q7I0Eponb1p"
      },
      "outputs": [],
      "source": [
        "# Assuming you have 'pos', 'neu', and 'neg' columns in your df\n",
        "plt.hist(df['compound'], bins=20, alpha=0.5, label='Compound')\n",
        "plt.hist(df['pos'], bins=20, alpha=0.5, label='Positive')\n",
        "plt.hist(df['neg'], bins=20, alpha=0.5, label='Negative')\n",
        "plt.hist(df['neu'], bins=20, alpha=0.5, label='Neutral')\n",
        "\n",
        "plt.xlabel('Score')\n",
        "plt.ylabel('Frequency')\n",
        "plt.title('Histogram of VADER Sentiment Scores')\n",
        "plt.legend(loc='upper right')\n",
        "plt.show()"
      ]
    },
    {
      "cell_type": "markdown",
      "metadata": {
        "id": "1f_rBOiQtngk"
      },
      "source": []
    },
    {
      "cell_type": "code",
      "execution_count": null,
      "metadata": {
        "id": "WTlDlWF-PJK9"
      },
      "outputs": [],
      "source": [
        "df.head()"
      ]
    },
    {
      "cell_type": "code",
      "execution_count": null,
      "metadata": {
        "id": "wWAfAr5E8yh3"
      },
      "outputs": [],
      "source": [
        "# save dataframe as a feather file \n",
        "df.reset_index()\n",
        "df.to_csv('cleaned_bitcoin_tweet_data.csv')"
      ]
    },
    {
      "cell_type": "code",
      "execution_count": null,
      "metadata": {
        "id": "DInNeMlz9hB2"
      },
      "outputs": [],
      "source": [
        "df.shape"
      ]
    }
  ],
  "metadata": {
    "accelerator": "GPU",
    "colab": {
      "machine_shape": "hm",
      "provenance": [],
      "mount_file_id": "1eIvUMt41P68NIJCIjLQ1LlIZ4NFJ2Pty",
      "authorship_tag": "ABX9TyOW8oqz7hipU3UlQ0zB44VD",
      "include_colab_link": true
    },
    "gpuClass": "standard",
    "kernelspec": {
      "display_name": "Python 3",
      "name": "python3"
    },
    "language_info": {
      "name": "python"
    }
  },
  "nbformat": 4,
  "nbformat_minor": 0
}